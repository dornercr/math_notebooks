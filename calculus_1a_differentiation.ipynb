{
  "nbformat": 4,
  "nbformat_minor": 0,
  "metadata": {
    "colab": {
      "provenance": [],
      "authorship_tag": "ABX9TyOZz12z3yzrfybGmW3Pt1C4",
      "include_colab_link": true
    },
    "kernelspec": {
      "name": "python3",
      "display_name": "Python 3"
    },
    "language_info": {
      "name": "python"
    }
  },
  "cells": [
    {
      "cell_type": "markdown",
      "metadata": {
        "id": "view-in-github",
        "colab_type": "text"
      },
      "source": [
        "<a href=\"https://colab.research.google.com/github/dornercr/math_notebooks/blob/main/calculus_1a_differentiation.ipynb\" target=\"_parent\"><img src=\"https://colab.research.google.com/assets/colab-badge.svg\" alt=\"Open In Colab\"/></a>"
      ]
    },
    {
      "cell_type": "markdown",
      "source": [
        "#Calculus 1A: Differentriation\n",
        "## 🧠 Unit 0 Limits\n",
        "\n",
        "## 1. **Limits**\n",
        "- **Definition**: A limit describes the value a function approaches as the input approaches a certain value.  \n",
        "- **Why It Matters**: Both **derivatives** and **integrals** rely on the idea of a limit.  \n",
        "- **Visual**:  \n",
        "  - Start with a point $A$ on a curve.  \n",
        "  - Move point $B$ closer to $A$.  \n",
        "  - The line connecting $A$ and $B$ becomes the **tangent** as $B \\to A$.\n",
        "\n",
        "---\n",
        "\n",
        "## 2. **Derivatives**\n",
        "- **Definition**: The **derivative** at point $A$ is the **slope of the tangent line** at $A$.  \n",
        "- **Formula**:  \n",
        "  $$\n",
        "  f'(a) = \\lim_{h \\to 0} \\frac{f(a+h) - f(a)}{h}\n",
        "  $$\n",
        "- **Meaning**: Measures **rate of change**.\n",
        "\n",
        "---\n",
        "\n",
        "## 3. **Integrals**\n",
        "- **Definition**: An **integral** measures **area under a curve**.  \n",
        "- **Approach**:  \n",
        "  - Break area into rectangles.  \n",
        "  - As rectangle width $\\to 0$, total area $\\to$ true area.  \n",
        "- **Formula (Definite Integral)**:  \n",
        "  $$\n",
        "  \\int_a^b f(x)\\,dx = \\lim_{n \\to \\infty} \\sum_{i=1}^n f(x_i)\\,\\Delta x\n",
        "  $$\n",
        "\n",
        "---\n",
        "\n",
        "## 🔁 Why Limits Come First\n",
        "- **Derivatives** = limit of slopes  \n",
        "- **Integrals** = limit of sums  \n",
        "- **Limits = foundation of calculus**\n",
        "\n",
        "---\n",
        "\n",
        "## ✅ Quick Summary\n",
        "- **Limits** → handle approach and approximation  \n",
        "- **Derivatives** → rate of change = slope = limit  \n",
        "- **Integrals** → area = sum = limit\n"
      ],
      "metadata": {
        "id": "q7weu-dqmFdY"
      }
    },
    {
      "cell_type": "markdown",
      "source": [
        "# 📘 Limits – Approaching from the Left (Intro to Calculus)\n",
        "\n",
        "## ✅ Key Idea\n",
        "- Calculus studies how functions behave **as inputs vary**, not just at one point.\n",
        "- Focus: What happens to $f(x)$ as $x$ **approaches** a value (e.g., $x \\to 1$ from the **left**).\n",
        "\n",
        "---\n",
        "\n",
        "## 🔢 Function Used\n",
        "Let:\n",
        "$$\n",
        "f(x) = \\frac{\\sqrt{3 - 5x + x^2 + x^3}}{x - 1}\n",
        "$$\n",
        "\n",
        "⚠️ **Note**: $f(x)$ is **undefined at** $x = 1$ (division by zero), but we can still ask what happens **as** $x \\to 1$ from the left.\n",
        "\n",
        "---\n",
        "\n",
        "## 🧮 Table of Values (from the left)\n",
        "\n",
        "| $x$      | $f(x)$ (approx)     |\n",
        "|----------|---------------------|\n",
        "| 0.00     | $-1.73$             |\n",
        "| 0.50     | $-1.87$             |\n",
        "| 0.90     | $-1.97$             |\n",
        "| 0.99     | $-1.997$            |\n",
        "\n",
        "**Observation**: As $x \\to 1^-$, $f(x) \\to -2$\n",
        "\n",
        "---\n",
        "\n",
        "## ⚠️ Limit Rule Recap\n",
        "- We write:  \n",
        "  $$\n",
        "  \\lim_{x \\to 1^-} f(x) = -2\n",
        "  $$\n",
        "- This means: **As $x$ gets arbitrarily close to 1 from the left, $f(x)$ gets arbitrarily close to $-2$**\n",
        "\n",
        "---\n",
        "\n",
        "## 🔁 Challenge\n",
        "Try the **same process**, but now approach 1 **from the right** ($x \\to 1^+$).  \n",
        "Do the values of $f(x)$ still approach $-2$?\n",
        "\n",
        "---\n",
        "\n",
        "## 🧠 Takeaway\n",
        "- **Limits** tell us what value a function **approaches**, not what it **equals**.  \n",
        "- Even if $f(1)$ is undefined, the limit as $x \\to 1$ may still **exist**.\n",
        "\n"
      ],
      "metadata": {
        "id": "o5xm9-4DowbM"
      }
    },
    {
      "cell_type": "markdown",
      "source": [
        "### Question\n",
        "\n",
        "Determine what happens to $\\displaystyle f(x) = \\frac{\\sqrt{3 - 5x + x^2 + x^3}}{x - 1}$ as $x$ approaches $1$ from the right.\n",
        "\n",
        "Take values of $x$ that are greater than $1$, but getting closer and closer to $1$. For instance, you could try $x = 1.1$, $1.01$, $1.001$, etc.\n",
        "\n",
        "What value does $f(x)$ get closer to? **2**\n",
        "\n",
        "Enter the number below; if there is no such value, enter capital **DNE** (for \"does not exist\").\n"
      ],
      "metadata": {
        "id": "x6zvncLxorZj"
      }
    },
    {
      "cell_type": "code",
      "source": [
        "#python example\n",
        "\n",
        "import numpy as np\n",
        "\n",
        "#define the function f(x)\n",
        "def f(x):\n",
        "  return np.sqrt(3-5*x + x**2 + x**3) / (x-1)\n",
        "\n",
        "x_values = [1.1, 1.01, 1.001, 1.0001, 1.0001]\n",
        "y_values = [f(x) for x in x_values]\n",
        "\n",
        "list(zip(x_values, y_values))"
      ],
      "metadata": {
        "colab": {
          "base_uri": "https://localhost:8080/"
        },
        "id": "cz2DsZf4o3LM",
        "outputId": "7a271551-9a66-4f30-d852-2369f586a3ed"
      },
      "execution_count": 2,
      "outputs": [
        {
          "output_type": "execute_result",
          "data": {
            "text/plain": [
              "[(1.1, np.float64(2.0248456731316713)),\n",
              " (1.01, np.float64(2.00249843945087)),\n",
              " (1.001, np.float64(2.000249984482112)),\n",
              " (1.0001, np.float64(2.0000250015401098)),\n",
              " (1.0001, np.float64(2.0000250015401098))]"
            ]
          },
          "metadata": {},
          "execution_count": 2
        }
      ]
    },
    {
      "cell_type": "markdown",
      "source": [],
      "metadata": {
        "id": "SJF9oc_0pEDY"
      }
    },
    {
      "cell_type": "code",
      "source": [],
      "metadata": {
        "id": "AiryLizwpDhu"
      },
      "execution_count": null,
      "outputs": []
    },
    {
      "cell_type": "markdown",
      "source": [],
      "metadata": {
        "id": "c7b5Ex7los6a"
      }
    }
  ]
}