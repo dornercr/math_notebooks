{
  "nbformat": 4,
  "nbformat_minor": 0,
  "metadata": {
    "colab": {
      "provenance": [],
      "authorship_tag": "ABX9TyOXJ2OOhvMEmlxt5vLH2TQT",
      "include_colab_link": true
    },
    "kernelspec": {
      "name": "python3",
      "display_name": "Python 3"
    },
    "language_info": {
      "name": "python"
    }
  },
  "cells": [
    {
      "cell_type": "markdown",
      "metadata": {
        "id": "view-in-github",
        "colab_type": "text"
      },
      "source": [
        "<a href=\"https://colab.research.google.com/github/dornercr/math_notebooks/blob/main/intro_to_python_notebook.ipynb\" target=\"_parent\"><img src=\"https://colab.research.google.com/assets/colab-badge.svg\" alt=\"Open In Colab\"/></a>"
      ]
    },
    {
      "cell_type": "markdown",
      "source": [
        "from pathlib import Path\n",
        "\n",
        "# Define the complete Markdown content\n",
        "markdown_content = \"\"\"# MIT 6.100L – Lecture 1: Introduction to Programming in Python\n",
        "\n",
        "---\n",
        "\n",
        "## 🎯 Course Overview\n",
        "\n",
        "- Programming is a skill — it requires practice and repetition.\n",
        "- Course Outcomes:\n",
        "  1. Conceptual understanding of computer science principles\n",
        "  2. Fluency in Python\n",
        "  3. Ability to solve problems algorithmically\n",
        "\n",
        "---\n",
        "\n",
        "## 🧠 Declarative vs. Imperative Knowledge\n",
        "\n",
        "- **Declarative**: States facts (e.g., √x = y such that y² = x)\n",
        "- **Imperative**: A sequence of steps (recipe) to solve a problem\n",
        "\n",
        "➡️ Computers require imperative instructions.\n",
        "\n",
        "---\n",
        "\n",
        "## 🔄 Algorithms\n",
        "\n",
        "- Definition: A recipe-like set of steps\n",
        "- Must include:\n",
        "  - Order (control flow)\n",
        "  - Conditional logic\n",
        "  - Termination criteria\n",
        "\n",
        "### Square Root Example:\n",
        "1. Start with guess (e.g., 3)\n",
        "2. Improve guess: average of guess and x/guess\n",
        "3. Repeat until guess² ≈ x\n",
        "\n",
        "---\n",
        "\n",
        "## 🖥️ What Computers Do\n",
        "\n",
        "- Computers are fast and can store a lot of data.\n",
        "- But they’re not smart — they just follow instructions.\n",
        "- Good at:\n",
        "  - Arithmetic\n",
        "  - Repetition\n",
        "  - Data storage\n",
        "\n",
        "➡️ Computers don’t \"understand\" — they execute.\n",
        "\n",
        "---\n",
        "\n",
        "## 🖨️ Fixed vs. Stored Program Machines\n",
        "\n",
        "- **Fixed-Program Computers** (e.g., calculators): hardcoded behavior\n",
        "- **Stored-Program Computers** (post-1940s): can store and execute code\n",
        "- Programs executed by **interpreters**\n",
        "\n",
        "---\n",
        "\n",
        "## 🐍 Python Primitive Types\n",
        "\n",
        "| Type       | Example Values       |\n",
        "|------------|----------------------|\n",
        "| `int`      | `3`, `0`, `-7`        |\n",
        "| `float`    | `2.0`, `-3.14`        |\n",
        "| `bool`     | `True`, `False`       |\n",
        "| `NoneType` | `None`                |\n",
        "\n",
        "Use `type()` to check type\n",
        "\n",
        "---\n",
        "\n",
        "## 🔁 Type Casting & Round\n",
        "\n",
        "- `int()` truncates, does not round\n",
        "- `float()` converts integer to float\n",
        "- `round()` rounds to the nearest integer\n",
        "\n",
        "### Examples:\n",
        "- `float(3)` → `3.0`\n",
        "- `int(5.9)` → `5`\n",
        "- `round(5.9)` → `6`\n",
        "- `float(round(7.2))` → `7.0`\n",
        "\n",
        "---\n",
        "\n",
        "## ➕ Expressions and Precedence\n",
        "\n",
        "- Python expressions follow standard operator precedence:\n",
        "  1. `**` (exponentiation)\n",
        "  2. `*`, `/`, `//`, `%`\n",
        "  3. `+`, `-`\n",
        "- Parentheses `()` override precedence\n",
        "\n",
        "### Examples:\n",
        "- `4 + 2 * 6 - 1` → `15`\n",
        "- `(4 + 2) * (6 - 1)` → `30`\n",
        "- `type(4 * 3)` → `int`\n",
        "- `type(4.0 * 3)` → `float`\n",
        "- `int(1 / 2)` → `0`\n",
        "\n",
        "---\n",
        "\n",
        "## 🧾 Variables and Assignment\n",
        "\n",
        "- Assignment binds a name (left-hand side) to a value (right-hand side)\n",
        "- Right-hand side is evaluated first\n",
        "- Assignment is not equality (`=` is not math `==`)\n",
        "\n",
        "### Valid Example:\n",
        "- `radius = 2.2`\n",
        "- `area = pi * radius ** 2`\n",
        "\n",
        "### Invalid Examples:\n",
        "- `6 = x` → ❌\n",
        "- `x * y = 3 + 4` → ❌\n",
        "\n",
        "### Notes:\n",
        "- Variables are reusable and override previous bindings.\n",
        "- Descriptive names are better than single letters.\n",
        "\n",
        "---\n",
        "\n",
        "## 📦 Rebinding and Memory\n",
        "\n",
        "- Python executes instructions **top to bottom**, one line at a time.\n",
        "- You can reassign variables at any time by binding them to new values.\n",
        "- The **right-hand side is always evaluated first**.\n",
        "\n",
        "### Key Points:\n",
        "- Previous values are **discarded** when variables are reassigned.\n",
        "- Other variables using the old value are **not updated automatically**.\n",
        "\n",
        "### Example:\n",
        "```python\n",
        "radius = 2.2\n",
        "area = pi * radius ** 2\n",
        "radius = radius + 1\n"
      ],
      "metadata": {
        "id": "ahff6E5ZXrOw"
      }
    },
    {
      "cell_type": "code",
      "source": [
        "print((13-4)/(12*12))\n",
        "print(type(4*3))\n",
        "print(type(4.0*3))\n",
        "print(int(1/2))"
      ],
      "metadata": {
        "id": "o3wc-iPyZZv8",
        "outputId": "5b93b801-6da0-49ce-bd3c-fcc3dd243844",
        "colab": {
          "base_uri": "https://localhost:8080/"
        }
      },
      "execution_count": 4,
      "outputs": [
        {
          "output_type": "stream",
          "name": "stdout",
          "text": [
            "0.0625\n",
            "<class 'int'>\n",
            "<class 'float'>\n",
            "0\n"
          ]
        }
      ]
    },
    {
      "cell_type": "markdown",
      "source": [],
      "metadata": {
        "id": "jrbis_x9XxEy"
      }
    }
  ]
}