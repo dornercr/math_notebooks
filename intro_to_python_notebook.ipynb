{
  "nbformat": 4,
  "nbformat_minor": 0,
  "metadata": {
    "colab": {
      "provenance": [],
      "authorship_tag": "ABX9TyPWcYqaJHv/C9aGDa2Rz8Tc",
      "include_colab_link": true
    },
    "kernelspec": {
      "name": "python3",
      "display_name": "Python 3"
    },
    "language_info": {
      "name": "python"
    }
  },
  "cells": [
    {
      "cell_type": "markdown",
      "metadata": {
        "id": "view-in-github",
        "colab_type": "text"
      },
      "source": [
        "<a href=\"https://colab.research.google.com/github/dornercr/math_notebooks/blob/main/intro_to_python_notebook.ipynb\" target=\"_parent\"><img src=\"https://colab.research.google.com/assets/colab-badge.svg\" alt=\"Open In Colab\"/></a>"
      ]
    },
    {
      "cell_type": "markdown",
      "source": [
        "\n",
        "# 📘 Introduction to Programming in Python\n",
        "\n",
        "## 🎯 Course Overview\n",
        "- Learn programming **as a skill**, not just facts.\n",
        "- Emphasis on:  \n",
        "  - **Conceptual knowledge** (via lectures)  \n",
        "  - **Programming skills** (via finger exercises)  \n",
        "  - **Problem-solving** (via problem sets)\n",
        "\n",
        "---\n",
        "\n",
        "## 💡 Big Concepts\n",
        "\n",
        "### 🧠 Declarative vs. Imperative Knowledge\n",
        "- **Declarative**: States facts (e.g., √x = y such that y² = x) – not useful to a computer.\n",
        "- **Imperative**: Recipe-style instructions – **how to compute** something (e.g., steps to find √16).\n",
        "\n",
        "---\n",
        "\n",
        "### 🔄 Algorithms\n",
        "- **Definition**: A step-by-step procedure (like a recipe).\n",
        "- Components:\n",
        "  - Sequence of steps\n",
        "  - Flow control (e.g., `if`, `else`, `repeat`)\n",
        "  - Stopping condition\n",
        "\n",
        "---\n",
        "\n",
        "## 🧮 What Computers Do\n",
        "- Follow instructions **exactly**\n",
        "- **Not smart**: Cannot infer, only execute\n",
        "- Strengths:\n",
        "  - Fast arithmetic/logical ops\n",
        "  - Massive data storage\n",
        "\n",
        "---\n",
        "\n",
        "## 🖥️ Programming History\n",
        "- **Pre-1940s**: Fixed-program machines (e.g., calculators)\n",
        "- **Post-1940s**: Stored-program computers\n",
        "  - Programs stored as data\n",
        "  - **Interpreters**: Execute instructions line-by-line\n",
        "\n",
        "---\n",
        "\n",
        "## 🐍 Python Primitives\n",
        "\n",
        "| Type       | Example Values         |\n",
        "|------------|------------------------|\n",
        "| `int`      | `3`, `-100`, `1_000`   |\n",
        "| `float`    | `2.0`, `-3.14`         |\n",
        "| `bool`     | `True`, `False`        |\n",
        "| `NoneType` | `None`                 |\n",
        "\n",
        "---\n",
        "\n",
        "## 🔍 Type Checking & Casting\n",
        "\n",
        "```python\n",
        "type(5)         # int\n",
        "type(3.14)      # float\n",
        "type(True)      # bool\n",
        "float(3)        # 3.0\n",
        "int(5.9)        # 5\n",
        "round(5.9)      # 6\n",
        "\n",
        "```\n",
        "# This is formatted as code\n",
        "```\n",
        "\n"
      ],
      "metadata": {
        "id": "ahff6E5ZXrOw"
      }
    },
    {
      "cell_type": "markdown",
      "source": [],
      "metadata": {
        "id": "jrbis_x9XxEy"
      }
    }
  ]
}